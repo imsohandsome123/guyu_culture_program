{
 "cells": [
  {
   "cell_type": "code",
   "execution_count": 1,
   "metadata": {},
   "outputs": [],
   "source": [
    "import pandas as pd\n",
    "pd.set_option('display.max_columns', None)"
   ]
  },
  {
   "cell_type": "code",
   "execution_count": 10,
   "metadata": {},
   "outputs": [
    {
     "data": {
      "text/plain": [
       "(4045, 0)"
      ]
     },
     "execution_count": 10,
     "metadata": {},
     "output_type": "execute_result"
    }
   ],
   "source": [
    "\n",
    "# import openpyxl\n",
    "def cal_store_revenue(df, store_name):\n",
    "    df.columns = [col.replace('\\n', '') for col in df.columns]\n",
    "    df = df.loc[df['狀態'].apply(lambda x: '訂單成立' in x or '已寄件' in x or '已取件' in x or '已送達' in x or '備貨' in x)]\n",
    "    df = df.loc[df['賣場名稱'] == store_name]\n",
    "    df_revenue = df['小計(A)'].astype(int).sum()\n",
    "    return df_revenue\n",
    "\n",
    "df = pd.read_excel(r'../data/20240714_form.xlsx', skiprows=2)\n",
    "cal_store_revenue(df, '糖心戀語專屬賣場'), cal_store_revenue(df, '芙寧娜專屬賣場')"
   ]
  },
  {
   "cell_type": "code",
   "execution_count": 13,
   "metadata": {},
   "outputs": [
    {
     "data": {
      "text/plain": [
       "22721"
      ]
     },
     "execution_count": 13,
     "metadata": {},
     "output_type": "execute_result"
    }
   ],
   "source": [
    "def cal_time_revenue(df, time):\n",
    "    df.columns = [col.replace('\\n', '') for col in df.columns]\n",
    "    df = df.loc[df['狀態'].apply(lambda x: '訂單成立' in x or '已寄件' in x or '已取件' in x or '已送達' in x or '備貨' in x)]\n",
    "    df = df.loc[df['訂購日期'].apply(lambda x: x[:7] == time)]\n",
    "    df['小計(A)'] = df['小計(A)'].apply(lambda x: x.replace(',', ''))\n",
    "    df_revenue = df['小計(A)'].astype(int).sum()\n",
    "    return df_revenue\n",
    "df = pd.read_excel(r'../data/20240714_form.xlsx', skiprows=2)\n",
    "cal_time_revenue(df, '2024/07')"
   ]
  },
  {
   "cell_type": "code",
   "execution_count": 72,
   "metadata": {},
   "outputs": [
    {
     "name": "stdout",
     "output_type": "stream",
     "text": [
      "紅組 迪盧克 拍立得 2\n",
      "紅組 迪盧克 鐳射票 1\n",
      "紅組 迪盧克 徽章 1\n",
      "紅組 迪盧克 掛件 0\n",
      "紅組 迪盧克 流麻 0\n",
      "紅組 迪盧克 書籤 1\n",
      "紅組 迪盧克 透卡 0\n",
      "\n",
      "紅組 達達利亞 拍立得 3\n",
      "紅組 達達利亞 鐳射票 3\n",
      "紅組 達達利亞 徽章 0\n",
      "紅組 達達利亞 掛件 0\n",
      "紅組 達達利亞 流麻 0\n",
      "紅組 達達利亞 書籤 0\n",
      "紅組 達達利亞 透卡 4\n",
      "\n",
      "紅組 托馬 拍立得 1\n",
      "紅組 托馬 鐳射票 1\n",
      "紅組 托馬 徽章 0\n",
      "紅組 托馬 掛件 1\n",
      "紅組 托馬 流麻 0\n",
      "紅組 托馬 書籤 0\n",
      "紅組 托馬 透卡 1\n",
      "\n",
      "紅組 萬葉 拍立得 6\n",
      "紅組 萬葉 鐳射票 3\n",
      "紅組 萬葉 徽章 1\n",
      "紅組 萬葉 掛件 2\n",
      "紅組 萬葉 流麻 1\n",
      "紅組 萬葉 書籤 1\n",
      "紅組 萬葉 透卡 5\n",
      "\n",
      "紅組 鍾離 拍立得 2\n",
      "紅組 鍾離 鐳射票 1\n",
      "紅組 鍾離 徽章 0\n",
      "紅組 鍾離 掛件 0\n",
      "紅組 鍾離 流麻 0\n",
      "紅組 鍾離 書籤 0\n",
      "紅組 鍾離 透卡 1\n",
      "\n",
      "紅組 卡維 拍立得 1\n",
      "紅組 卡維 鐳射票 2\n",
      "紅組 卡維 徽章 0\n",
      "紅組 卡維 掛件 1\n",
      "紅組 卡維 流麻 0\n",
      "紅組 卡維 書籤 0\n",
      "紅組 卡維 透卡 1\n",
      "\n",
      "紅組 全員 裝飾畫 0\n",
      "紅組 全員 超厚壓克力 2\n",
      "\n",
      "白組 凱亞 拍立得 3\n",
      "白組 凱亞 鐳射票 2\n",
      "白組 凱亞 徽章 1\n",
      "白組 凱亞 掛件 1\n",
      "白組 凱亞 流麻 0\n",
      "白組 凱亞 書籤 1\n",
      "白組 凱亞 透卡 1\n",
      "\n",
      "白組 流浪者 拍立得 7\n",
      "白組 流浪者 鐳射票 3\n",
      "白組 流浪者 徽章 1\n",
      "白組 流浪者 掛件 0\n",
      "白組 流浪者 流麻 0\n",
      "白組 流浪者 書籤 2\n",
      "白組 流浪者 透卡 5\n",
      "\n",
      "白組 綾人 拍立得 1\n",
      "白組 綾人 鐳射票 2\n",
      "白組 綾人 徽章 0\n",
      "白組 綾人 掛件 0\n",
      "白組 綾人 流麻 0\n",
      "白組 綾人 書籤 1\n",
      "白組 綾人 透卡 1\n",
      "\n",
      "白組 魈 拍立得 5\n",
      "白組 魈 鐳射票 1\n",
      "白組 魈 徽章 3\n",
      "白組 魈 掛件 0\n",
      "白組 魈 流麻 0\n",
      "白組 魈 書籤 2\n",
      "白組 魈 透卡 3\n",
      "\n",
      "白組 艾爾海森 拍立得 4\n",
      "白組 艾爾海森 鐳射票 3\n",
      "白組 艾爾海森 徽章 1\n",
      "白組 艾爾海森 掛件 0\n",
      "白組 艾爾海森 流麻 0\n",
      "白組 艾爾海森 書籤 0\n",
      "白組 艾爾海森 透卡 4\n",
      "\n",
      "白組 白朮 拍立得 1\n",
      "白組 白朮 鐳射票 2\n",
      "白組 白朮 徽章 0\n",
      "白組 白朮 掛件 0\n",
      "白組 白朮 流麻 1\n",
      "白組 白朮 書籤 0\n",
      "白組 白朮 透卡 0\n",
      "\n",
      "白組 全員 裝飾畫 7\n",
      "白組 全員 超厚壓克力 0\n",
      "\n"
     ]
    }
   ],
   "source": [
    "df = pd.read_excel(r'../data/20240623_form.xlsx', skiprows=2)\n",
    "df.columns = [col.replace('\\n', '') for col in df.columns]\n",
    "#df.loc[df['狀態'].apply(lambda x: '成立' in x) & df['商品名稱(品名/規格)'].apply(lambda x: ('魈' in x) & ('徽章' in x))]['數量'].astype(int).sum()\n",
    "group_char = {'紅組': ['迪盧克', '達達利亞', '托馬', '萬葉', '鍾離', '卡維', '全員'],\n",
    "              '白組': ['凱亞', '流浪者', '綾人', '魈', '艾爾海森', '白朮', '全員']}\n",
    "for group, chars in group_char.items():\n",
    "    for char in chars:\n",
    "        for item in ['拍立得', '鐳射票', '徽章', '掛件', '流麻', '書籤', '透卡', '裝飾畫', '超厚壓克力']:\n",
    "            if (char == '全員' and item in ['裝飾畫', '超厚壓克力']) or (char != '全員' and item not in ['裝飾畫', '超厚壓克力']):\n",
    "                num = df.loc[df['賣場名稱'].apply(lambda x: x == '糖心戀語專屬賣場') & df['狀態'].apply(lambda x: '成立' in x) &\\\n",
    "                              df['商品名稱(品名/規格)'].apply(lambda x: (group in x) & (f'角色-{char}' in x) & (item in x))]['數量'].astype(int).sum()\n",
    "                print(group, char, item, num)\n",
    "        print()"
   ]
  },
  {
   "cell_type": "code",
   "execution_count": 3,
   "metadata": {},
   "outputs": [
    {
     "name": "stdout",
     "output_type": "stream",
     "text": [
      "紅組 迪盧克 拍立得 2\n",
      "紅組 迪盧克 鐳射票 1\n",
      "紅組 迪盧克 徽章 1\n",
      "紅組 迪盧克 掛件 0\n",
      "紅組 迪盧克 流麻 0\n",
      "紅組 迪盧克 書籤 1\n",
      "紅組 迪盧克 透卡 0\n",
      "\n",
      "紅組 達達利亞 拍立得 3\n",
      "紅組 達達利亞 鐳射票 3\n",
      "紅組 達達利亞 徽章 0\n",
      "紅組 達達利亞 掛件 0\n",
      "紅組 達達利亞 流麻 0\n",
      "紅組 達達利亞 書籤 0\n",
      "紅組 達達利亞 透卡 4\n",
      "\n",
      "紅組 托馬 拍立得 1\n",
      "紅組 托馬 鐳射票 1\n",
      "紅組 托馬 徽章 0\n",
      "紅組 托馬 掛件 1\n",
      "紅組 托馬 流麻 0\n",
      "紅組 托馬 書籤 0\n",
      "紅組 托馬 透卡 1\n",
      "\n",
      "紅組 萬葉 拍立得 6\n",
      "紅組 萬葉 鐳射票 3\n",
      "紅組 萬葉 徽章 1\n",
      "紅組 萬葉 掛件 2\n",
      "紅組 萬葉 流麻 1\n",
      "紅組 萬葉 書籤 1\n",
      "紅組 萬葉 透卡 5\n",
      "\n",
      "紅組 鍾離 拍立得 2\n",
      "紅組 鍾離 鐳射票 1\n",
      "紅組 鍾離 徽章 0\n",
      "紅組 鍾離 掛件 0\n",
      "紅組 鍾離 流麻 0\n",
      "紅組 鍾離 書籤 0\n",
      "紅組 鍾離 透卡 1\n",
      "\n",
      "紅組 卡維 拍立得 1\n",
      "紅組 卡維 鐳射票 2\n",
      "紅組 卡維 徽章 0\n",
      "紅組 卡維 掛件 1\n",
      "紅組 卡維 流麻 0\n",
      "紅組 卡維 書籤 0\n",
      "紅組 卡維 透卡 1\n",
      "\n",
      "紅組 全員 裝飾畫 0\n",
      "紅組 全員 超厚壓克力 2\n",
      "\n",
      "白組 凱亞 拍立得 3\n",
      "白組 凱亞 鐳射票 2\n",
      "白組 凱亞 徽章 1\n",
      "白組 凱亞 掛件 1\n",
      "白組 凱亞 流麻 0\n",
      "白組 凱亞 書籤 1\n",
      "白組 凱亞 透卡 1\n",
      "\n",
      "白組 流浪者 拍立得 7\n",
      "白組 流浪者 鐳射票 3\n",
      "白組 流浪者 徽章 1\n",
      "白組 流浪者 掛件 0\n",
      "白組 流浪者 流麻 0\n",
      "白組 流浪者 書籤 2\n",
      "白組 流浪者 透卡 5\n",
      "\n",
      "白組 綾人 拍立得 1\n",
      "白組 綾人 鐳射票 2\n",
      "白組 綾人 徽章 0\n",
      "白組 綾人 掛件 0\n",
      "白組 綾人 流麻 0\n",
      "白組 綾人 書籤 1\n",
      "白組 綾人 透卡 1\n",
      "\n",
      "白組 魈 拍立得 5\n",
      "白組 魈 鐳射票 1\n",
      "白組 魈 徽章 3\n",
      "白組 魈 掛件 0\n",
      "白組 魈 流麻 0\n",
      "白組 魈 書籤 2\n",
      "白組 魈 透卡 3\n",
      "\n",
      "白組 艾爾海森 拍立得 4\n",
      "白組 艾爾海森 鐳射票 3\n",
      "白組 艾爾海森 徽章 1\n",
      "白組 艾爾海森 掛件 0\n",
      "白組 艾爾海森 流麻 0\n",
      "白組 艾爾海森 書籤 0\n",
      "白組 艾爾海森 透卡 4\n",
      "\n",
      "白組 白朮 拍立得 1\n",
      "白組 白朮 鐳射票 2\n",
      "白組 白朮 徽章 0\n",
      "白組 白朮 掛件 0\n",
      "白組 白朮 流麻 1\n",
      "白組 白朮 書籤 0\n",
      "白組 白朮 透卡 0\n",
      "\n",
      "白組 全員 裝飾畫 7\n",
      "白組 全員 超厚壓克力 0\n",
      "\n"
     ]
    }
   ],
   "source": [
    "df = pd.read_excel(r'../data/20240623_form.xlsx', skiprows=2)\n",
    "df.columns = [col.replace('\\n', '') for col in df.columns]\n",
    "#df.loc[df['狀態'].apply(lambda x: '成立' in x) & df['商品名稱(品名/規格)'].apply(lambda x: ('魈' in x) & ('徽章' in x))]['數量'].astype(int).sum()\n",
    "group_char = {'紅組': ['迪盧克', '達達利亞', '托馬', '萬葉', '鍾離', '卡維', '全員'],\n",
    "              '白組': ['凱亞', '流浪者', '綾人', '魈', '艾爾海森', '白朮', '全員']}\n",
    "for group, chars in group_char.items():\n",
    "    for char in chars:\n",
    "        for item in ['拍立得', '鐳射票', '徽章', '掛件', '流麻', '書籤', '透卡', '裝飾畫', '超厚壓克力']:\n",
    "            if (char == '全員' and item in ['裝飾畫', '超厚壓克力']) or (char != '全員' and item not in ['裝飾畫', '超厚壓克力']):\n",
    "                num = df.loc[df['賣場名稱'].apply(lambda x: x == '糖心戀語專屬賣場') & df['狀態'].apply(lambda x: '成立' in x) &\\\n",
    "                              df['商品名稱(品名/規格)'].apply(lambda x: (group in x) & (f'角色-{char}' in x) & (item in x))]['數量'].astype(int).sum()\n",
    "                print(group, char, item, num)\n",
    "        print()"
   ]
  },
  {
   "cell_type": "code",
   "execution_count": 16,
   "metadata": {},
   "outputs": [
    {
     "data": {
      "text/plain": [
       "array(['訂單成立', '取消訂單', '已寄件', '已送達', '已取件'], dtype=object)"
      ]
     },
     "execution_count": 16,
     "metadata": {},
     "output_type": "execute_result"
    }
   ],
   "source": [
    "df['狀態'].apply(lambda x: x.split('\\n')[0]).unique()\n"
   ]
  },
  {
   "cell_type": "code",
   "execution_count": 2,
   "metadata": {},
   "outputs": [
    {
     "data": {
      "text/plain": [
       "26921"
      ]
     },
     "execution_count": 2,
     "metadata": {},
     "output_type": "execute_result"
    }
   ],
   "source": [
    "2616+5525+1979+1018+1007+882+1007+1232+3083+437+244+877+225+270+180+612+854+290+888+3695"
   ]
  },
  {
   "cell_type": "markdown",
   "metadata": {},
   "source": []
  }
 ],
 "metadata": {
  "kernelspec": {
   "display_name": "BigMaster",
   "language": "python",
   "name": "python3"
  },
  "language_info": {
   "codemirror_mode": {
    "name": "ipython",
    "version": 3
   },
   "file_extension": ".py",
   "mimetype": "text/x-python",
   "name": "python",
   "nbconvert_exporter": "python",
   "pygments_lexer": "ipython3",
   "version": "3.9.16"
  }
 },
 "nbformat": 4,
 "nbformat_minor": 2
}
